{
 "cells": [
  {
   "cell_type": "code",
   "execution_count": 1,
   "metadata": {},
   "outputs": [
    {
     "name": "stdout",
     "output_type": "stream",
     "text": [
      "['Beispiel1', 'Trovit_Newsletter_AT', 'AT_The_Ladders', 'Ligatus_AT', 'LinkedIn_AT', 'LinkedIn_Direct_Ads_AT', 'DBM_RON_AT', 'DBM_RTU_AT', 'Jobrapido_Display_AT', 'Xing_Feed_AT', 'LinkedIn_export_AT', 'Alleskralle_AT', 'Careerjet_AT', 'Metajob_AT', 'LinkedIn_export_Prof_AT', 'Jobrapido_AT', 'Adzuna_AT', 'Jobtome_AT', 'Jobsmart_AT', 'Organic_Search_AT', 'Headhunter_Directory_AT', 'Google_AT', 'Google_Brand_AT', 'Google_Mobile_AT', 'Bing_AT', 'Bing_Brand_AT', 'Bing_Mobile_AT', 'Experteer.AT', 'Social_toolbar.AT', 'B2BSocial_toolbar.AT', 'Einladung_AT', 'Android_Career_App_AT', 'iOS_Career_App_AT', 'Jobrapido_AT_Text_Ads', 'Linkedin_Dynamic_Ads_AT']\n"
     ]
    }
   ],
   "source": [
    "import openpyxl\n",
    "\n",
    "#countries=(\"Austria\", \"Europe\", \"France\", \"Germany\", \"Italy\", \"Spain\", \"Switzerland\", \"UK\", \"USA\")\n",
    "#countries=(\"Austria\",\"Europe\")\n",
    "#for country in countries:\n",
    "country=\"Austria\"\n",
    "wb = openpyxl.load_workbook('C:\\\\Users\\\\mKorotkov\\\\Documents\\\\Channel Controlling 2018 ' + country + '.xlsx',read_only=True, data_only=True)\n",
    "#wb = openpyxl.Workbook('C:\\\\Users\\\\mKorotkov\\\\Documents\\\\Channel Controlling 2018 ' + country + '.xlsx')\n",
    "sheets =  wb.sheetnames\n",
    "i=-1\n",
    "while i <=1:\n",
    "sheets.pop(i)\n",
    "i=+\n",
    "print(sheets)\n",
    "\n",
    "\n",
    "\n",
    "#wb.close\n",
    "#print('\\nDone')"
   ]
  },
  {
   "cell_type": "code",
   "execution_count": 5,
   "metadata": {},
   "outputs": [
    {
     "name": "stdout",
     "output_type": "stream",
     "text": [
      "[(datetime.datetime(2018, 1, 1, 0, 0), 0.33, 'Trovit_AT', 'Austria'), (datetime.datetime(2018, 1, 2, 0, 0), 0.8, 'Trovit_AT', 'Austria'), (datetime.datetime(2018, 1, 3, 0, 0), 0.81, 'Trovit_AT', 'Austria'), (datetime.datetime(2018, 1, 4, 0, 0), 0.48, 'Trovit_AT', 'Austria'), (datetime.datetime(2018, 1, 5, 0, 0), 1.52, 'Trovit_AT', 'Austria'), (datetime.datetime(2018, 1, 6, 0, 0), 0.8, 'Trovit_AT', 'Austria'), (datetime.datetime(2018, 1, 7, 0, 0), 1.4, 'Trovit_AT', 'Austria'), (datetime.datetime(2018, 1, 8, 0, 0), 2.46, 'Trovit_AT', 'Austria'), (datetime.datetime(2018, 1, 9, 0, 0), 1.45, 'Trovit_AT', 'Austria'), (datetime.datetime(2018, 1, 10, 0, 0), 0.95, 'Trovit_AT', 'Austria'), (datetime.datetime(2018, 1, 11, 0, 0), 0.9, 'Trovit_AT', 'Austria'), (datetime.datetime(2018, 1, 12, 0, 0), 0.8, 'Trovit_AT', 'Austria'), (datetime.datetime(2018, 1, 13, 0, 0), 0.79, 'Trovit_AT', 'Austria'), (datetime.datetime(2018, 1, 14, 0, 0), 0.83, 'Trovit_AT', 'Austria'), (datetime.datetime(2018, 1, 15, 0, 0), 1.22, 'Trovit_AT', 'Austria'), (datetime.datetime(2018, 1, 16, 0, 0), 1.12, 'Trovit_AT', 'Austria'), (datetime.datetime(2018, 1, 17, 0, 0), 0.82, 'Trovit_AT', 'Austria'), (datetime.datetime(2018, 1, 18, 0, 0), 0.67, 'Trovit_AT', 'Austria'), (datetime.datetime(2018, 1, 19, 0, 0), 1.06, 'Trovit_AT', 'Austria'), (datetime.datetime(2018, 1, 20, 0, 0), 1.69, 'Trovit_AT', 'Austria'), (datetime.datetime(2018, 1, 21, 0, 0), 1.99, 'Trovit_AT', 'Austria'), (datetime.datetime(2018, 1, 22, 0, 0), 1.4, 'Trovit_AT', 'Austria'), (datetime.datetime(2018, 1, 23, 0, 0), 1.29, 'Trovit_AT', 'Austria'), (datetime.datetime(2018, 1, 24, 0, 0), 0.8, 'Trovit_AT', 'Austria'), (datetime.datetime(2018, 1, 25, 0, 0), 1.12, 'Trovit_AT', 'Austria'), (datetime.datetime(2018, 1, 26, 0, 0), 0.63, 'Trovit_AT', 'Austria'), (datetime.datetime(2018, 1, 27, 0, 0), 0.37, 'Trovit_AT', 'Austria'), (datetime.datetime(2018, 1, 28, 0, 0), 1.88, 'Trovit_AT', 'Austria'), (datetime.datetime(2018, 1, 29, 0, 0), 1.72, 'Trovit_AT', 'Austria'), (datetime.datetime(2018, 1, 30, 0, 0), 0.23, 'Trovit_AT', 'Austria'), (datetime.datetime(2018, 1, 31, 0, 0), 2.03, 'Trovit_AT', 'Austria'), (datetime.datetime(2018, 2, 1, 0, 0), 0.32, 'Trovit_AT', 'Austria'), (datetime.datetime(2018, 2, 2, 0, 0), 0.63, 'Trovit_AT', 'Austria'), (datetime.datetime(2018, 2, 3, 0, 0), 1.08, 'Trovit_AT', 'Austria'), (datetime.datetime(2018, 2, 4, 0, 0), 0.64, 'Trovit_AT', 'Austria'), (datetime.datetime(2018, 2, 5, 0, 0), 1.85, 'Trovit_AT', 'Austria'), (datetime.datetime(2018, 2, 6, 0, 0), 0.92, 'Trovit_AT', 'Austria'), (datetime.datetime(2018, 2, 7, 0, 0), 2.75, 'Trovit_AT', 'Austria'), (datetime.datetime(2018, 2, 8, 0, 0), 0.92, 'Trovit_AT', 'Austria'), (datetime.datetime(2018, 2, 9, 0, 0), 0.17, 'Trovit_AT', 'Austria'), (datetime.datetime(2018, 2, 10, 0, 0), 0.79, 'Trovit_AT', 'Austria'), (datetime.datetime(2018, 2, 11, 0, 0), 0.3, 'Trovit_AT', 'Austria'), (datetime.datetime(2018, 2, 12, 0, 0), 1.39, 'Trovit_AT', 'Austria'), (datetime.datetime(2018, 2, 13, 0, 0), 0.78, 'Trovit_AT', 'Austria'), (datetime.datetime(2018, 2, 14, 0, 0), 0.51, 'Trovit_AT', 'Austria'), (datetime.datetime(2018, 2, 15, 0, 0), 0.86, 'Trovit_AT', 'Austria'), (datetime.datetime(2018, 2, 16, 0, 0), 0.45, 'Trovit_AT', 'Austria'), (datetime.datetime(2018, 2, 17, 0, 0), 0.32, 'Trovit_AT', 'Austria'), (datetime.datetime(2018, 2, 18, 0, 0), 0.45, 'Trovit_AT', 'Austria'), (datetime.datetime(2018, 2, 19, 0, 0), 0.98, 'Trovit_AT', 'Austria'), (datetime.datetime(2018, 2, 20, 0, 0), 1.39, 'Trovit_AT', 'Austria'), (datetime.datetime(2018, 2, 21, 0, 0), 1.12, 'Trovit_AT', 'Austria'), (datetime.datetime(2018, 2, 22, 0, 0), 0.93, 'Trovit_AT', 'Austria'), (datetime.datetime(2018, 2, 23, 0, 0), 0.04, 'Trovit_AT', 'Austria'), (datetime.datetime(2018, 2, 24, 0, 0), 0.31, 'Trovit_AT', 'Austria'), (datetime.datetime(2018, 2, 25, 0, 0), 0.47, 'Trovit_AT', 'Austria'), (datetime.datetime(2018, 2, 26, 0, 0), 0.81, 'Trovit_AT', 'Austria'), (datetime.datetime(2018, 2, 27, 0, 0), 1.19, 'Trovit_AT', 'Austria'), (datetime.datetime(2018, 2, 28, 0, 0), 1.45, 'Trovit_AT', 'Austria'), (datetime.datetime(2018, 3, 1, 0, 0), 0.92, 'Trovit_AT', 'Austria'), (datetime.datetime(2018, 3, 2, 0, 0), 1.06, 'Trovit_AT', 'Austria'), (datetime.datetime(2018, 3, 3, 0, 0), 0.5, 'Trovit_AT', 'Austria'), (datetime.datetime(2018, 3, 4, 0, 0), 0.79, 'Trovit_AT', 'Austria'), (datetime.datetime(2018, 3, 5, 0, 0), 1.09, 'Trovit_AT', 'Austria'), (datetime.datetime(2018, 3, 6, 0, 0), 1.38, 'Trovit_AT', 'Austria'), (datetime.datetime(2018, 3, 7, 0, 0), 1.27, 'Trovit_AT', 'Austria'), (datetime.datetime(2018, 3, 8, 0, 0), 1.13, 'Trovit_AT', 'Austria'), (datetime.datetime(2018, 3, 9, 0, 0), 0.92, 'Trovit_AT', 'Austria'), (datetime.datetime(2018, 3, 10, 0, 0), 0.62, 'Trovit_AT', 'Austria'), (datetime.datetime(2018, 3, 11, 0, 0), 0.91, 'Trovit_AT', 'Austria'), (datetime.datetime(2018, 3, 12, 0, 0), 1.89, 'Trovit_AT', 'Austria'), (datetime.datetime(2018, 3, 13, 0, 0), 0.97, 'Trovit_AT', 'Austria'), (datetime.datetime(2018, 3, 14, 0, 0), 1.4, 'Trovit_AT', 'Austria'), (datetime.datetime(2018, 3, 15, 0, 0), 0.83, 'Trovit_AT', 'Austria'), (datetime.datetime(2018, 3, 16, 0, 0), 0.94, 'Trovit_AT', 'Austria'), (datetime.datetime(2018, 3, 17, 0, 0), 0.46, 'Trovit_AT', 'Austria'), (datetime.datetime(2018, 3, 18, 0, 0), 1.23, 'Trovit_AT', 'Austria'), (datetime.datetime(2018, 3, 19, 0, 0), 1.55, 'Trovit_AT', 'Austria'), (datetime.datetime(2018, 3, 20, 0, 0), 0.63, 'Trovit_AT', 'Austria'), (datetime.datetime(2018, 3, 21, 0, 0), 0.79, 'Trovit_AT', 'Austria'), (datetime.datetime(2018, 3, 22, 0, 0), 0.49, 'Trovit_AT', 'Austria'), (datetime.datetime(2018, 3, 23, 0, 0), 0.99, 'Trovit_AT', 'Austria'), (datetime.datetime(2018, 3, 24, 0, 0), 0.46, 'Trovit_AT', 'Austria'), (datetime.datetime(2018, 3, 25, 0, 0), 0.31, 'Trovit_AT', 'Austria'), (datetime.datetime(2018, 3, 26, 0, 0), 0.6, 'Trovit_AT', 'Austria'), (datetime.datetime(2018, 3, 27, 0, 0), 0.65, 'Trovit_AT', 'Austria'), (datetime.datetime(2018, 3, 28, 0, 0), 0.96, 'Trovit_AT', 'Austria'), (datetime.datetime(2018, 3, 29, 0, 0), 0.17, 'Trovit_AT', 'Austria'), (datetime.datetime(2018, 3, 30, 0, 0), 0.91, 'Trovit_AT', 'Austria'), (datetime.datetime(2018, 3, 31, 0, 0), 0.76, 'Trovit_AT', 'Austria'), (datetime.datetime(2018, 4, 1, 0, 0), 0.04, 'Trovit_AT', 'Austria'), (datetime.datetime(2018, 4, 2, 0, 0), 0.46, 'Trovit_AT', 'Austria'), (datetime.datetime(2018, 4, 3, 0, 0), 0.64, 'Trovit_AT', 'Austria'), (datetime.datetime(2018, 4, 4, 0, 0), 0.17, 'Trovit_AT', 'Austria'), (datetime.datetime(2018, 4, 5, 0, 0), 0.91, 'Trovit_AT', 'Austria'), (datetime.datetime(2018, 4, 6, 0, 0), 0.18, 'Trovit_AT', 'Austria'), (datetime.datetime(2018, 4, 7, 0, 0), 0.31, 'Trovit_AT', 'Austria'), (datetime.datetime(2018, 4, 8, 0, 0), 0.31, 'Trovit_AT', 'Austria'), (datetime.datetime(2018, 4, 9, 0, 0), 0.31, 'Trovit_AT', 'Austria'), (datetime.datetime(2018, 4, 10, 0, 0), 0.94, 'Trovit_AT', 'Austria'), (datetime.datetime(2018, 4, 11, 0, 0), 0.96, 'Trovit_AT', 'Austria'), (datetime.datetime(2018, 4, 12, 0, 0), 0.78, 'Trovit_AT', 'Austria'), (datetime.datetime(2018, 4, 13, 0, 0), 0.02, 'Trovit_AT', 'Austria'), (datetime.datetime(2018, 4, 14, 0, 0), 0, 'Trovit_AT', 'Austria'), (datetime.datetime(2018, 4, 15, 0, 0), 0.2, 'Trovit_AT', 'Austria'), (datetime.datetime(2018, 4, 16, 0, 0), 1.09, 'Trovit_AT', 'Austria'), (datetime.datetime(2018, 4, 17, 0, 0), 0.91, 'Trovit_AT', 'Austria'), (datetime.datetime(2018, 4, 18, 0, 0), 0.78, 'Trovit_AT', 'Austria'), (datetime.datetime(2018, 4, 19, 0, 0), 0.21, 'Trovit_AT', 'Austria'), (datetime.datetime(2018, 4, 20, 0, 0), 0.48, 'Trovit_AT', 'Austria'), (datetime.datetime(2018, 4, 21, 0, 0), 0.03, 'Trovit_AT', 'Austria'), (datetime.datetime(2018, 4, 22, 0, 0), 0.91, 'Trovit_AT', 'Austria'), (datetime.datetime(2018, 4, 23, 0, 0), 0.94, 'Trovit_AT', 'Austria'), (datetime.datetime(2018, 4, 24, 0, 0), 1.05, 'Trovit_AT', 'Austria'), (datetime.datetime(2018, 4, 25, 0, 0), 0.15, 'Trovit_AT', 'Austria'), (datetime.datetime(2018, 4, 26, 0, 0), 0.15, 'Trovit_AT', 'Austria'), (datetime.datetime(2018, 4, 27, 0, 0), 0.16, 'Trovit_AT', 'Austria'), (datetime.datetime(2018, 4, 28, 0, 0), 0.33, 'Trovit_AT', 'Austria'), (datetime.datetime(2018, 4, 29, 0, 0), 0.47, 'Trovit_AT', 'Austria'), (datetime.datetime(2018, 4, 30, 0, 0), 0.15, 'Trovit_AT', 'Austria'), (datetime.datetime(2018, 5, 1, 0, 0), 0.17, 'Trovit_AT', 'Austria'), (datetime.datetime(2018, 5, 2, 0, 0), 0.77, 'Trovit_AT', 'Austria'), (datetime.datetime(2018, 5, 3, 0, 0), 0.32, 'Trovit_AT', 'Austria'), (datetime.datetime(2018, 5, 4, 0, 0), 0.2, 'Trovit_AT', 'Austria'), (datetime.datetime(2018, 5, 5, 0, 0), 0.94, 'Trovit_AT', 'Austria'), (datetime.datetime(2018, 5, 6, 0, 0), 0.02, 'Trovit_AT', 'Austria'), (datetime.datetime(2018, 5, 7, 0, 0), 0.78, 'Trovit_AT', 'Austria'), (datetime.datetime(2018, 5, 8, 0, 0), 0.79, 'Trovit_AT', 'Austria'), (datetime.datetime(2018, 5, 9, 0, 0), 0.16, 'Trovit_AT', 'Austria'), (datetime.datetime(2018, 5, 10, 0, 0), 0.32, 'Trovit_AT', 'Austria'), (datetime.datetime(2018, 5, 11, 0, 0), 0.62, 'Trovit_AT', 'Austria'), (datetime.datetime(2018, 5, 12, 0, 0), 0.62, 'Trovit_AT', 'Austria'), (datetime.datetime(2018, 5, 13, 0, 0), 0.3, 'Trovit_AT', 'Austria'), (datetime.datetime(2018, 5, 14, 0, 0), 1.55, 'Trovit_AT', 'Austria'), (datetime.datetime(2018, 5, 15, 0, 0), 1.24, 'Trovit_AT', 'Austria'), (datetime.datetime(2018, 5, 16, 0, 0), 1.67, 'Trovit_AT', 'Austria'), (datetime.datetime(2018, 5, 17, 0, 0), 1.35, 'Trovit_AT', 'Austria'), (datetime.datetime(2018, 5, 18, 0, 0), 0.31, 'Trovit_AT', 'Austria'), (datetime.datetime(2018, 5, 19, 0, 0), 0, 'Trovit_AT', 'Austria'), (datetime.datetime(2018, 5, 20, 0, 0), 0.91, 'Trovit_AT', 'Austria'), (datetime.datetime(2018, 5, 21, 0, 0), 0.45, 'Trovit_AT', 'Austria'), (datetime.datetime(2018, 5, 22, 0, 0), 1.22, 'Trovit_AT', 'Austria'), (datetime.datetime(2018, 5, 23, 0, 0), 0.75, 'Trovit_AT', 'Austria'), (datetime.datetime(2018, 5, 24, 0, 0), 0.16, 'Trovit_AT', 'Austria'), (datetime.datetime(2018, 5, 25, 0, 0), 0.92, 'Trovit_AT', 'Austria'), (datetime.datetime(2018, 5, 26, 0, 0), 0, 'Trovit_AT', 'Austria'), (datetime.datetime(2018, 5, 27, 0, 0), 0.31, 'Trovit_AT', 'Austria'), (datetime.datetime(2018, 5, 28, 0, 0), 1.12, 'Trovit_AT', 'Austria'), (datetime.datetime(2018, 5, 29, 0, 0), 1.83, 'Trovit_AT', 'Austria'), (datetime.datetime(2018, 5, 30, 0, 0), 1.23, 'Trovit_AT', 'Austria'), (datetime.datetime(2018, 5, 31, 0, 0), 1.21, 'Trovit_AT', 'Austria'), (datetime.datetime(2018, 6, 1, 0, 0), 0.16, 'Trovit_AT', 'Austria'), (datetime.datetime(2018, 6, 2, 0, 0), 0.01, 'Trovit_AT', 'Austria'), (datetime.datetime(2018, 6, 3, 0, 0), 0.17, 'Trovit_AT', 'Austria'), (datetime.datetime(2018, 6, 4, 0, 0), 1.08, 'Trovit_AT', 'Austria'), (datetime.datetime(2018, 6, 5, 0, 0), 0.78, 'Trovit_AT', 'Austria'), (datetime.datetime(2018, 6, 6, 0, 0), 0.77, 'Trovit_AT', 'Austria'), (datetime.datetime(2018, 6, 7, 0, 0), 0.6, 'Trovit_AT', 'Austria'), (datetime.datetime(2018, 6, 8, 0, 0), 0.45, 'Trovit_AT', 'Austria'), (datetime.datetime(2018, 6, 9, 0, 0), 0.15, 'Trovit_AT', 'Austria'), (datetime.datetime(2018, 6, 10, 0, 0), 0.81, 'Trovit_AT', 'Austria'), (datetime.datetime(2018, 6, 11, 0, 0), 1.85, 'Trovit_AT', 'Austria'), (datetime.datetime(2018, 6, 12, 0, 0), 1.51, 'Trovit_AT', 'Austria'), (datetime.datetime(2018, 6, 13, 0, 0), 1.52, 'Trovit_AT', 'Austria'), (datetime.datetime(2018, 6, 14, 0, 0), 0.75, 'Trovit_AT', 'Austria'), (datetime.datetime(2018, 6, 15, 0, 0), 0.6, 'Trovit_AT', 'Austria'), (datetime.datetime(2018, 6, 16, 0, 0), 0.45, 'Trovit_AT', 'Austria'), (datetime.datetime(2018, 6, 17, 0, 0), 0.33, 'Trovit_AT', 'Austria'), (datetime.datetime(2018, 6, 18, 0, 0), 1.23, 'Trovit_AT', 'Austria'), (datetime.datetime(2018, 6, 19, 0, 0), 1.98, 'Trovit_AT', 'Austria'), (datetime.datetime(2018, 6, 20, 0, 0), 0.78, 'Trovit_AT', 'Austria'), (datetime.datetime(2018, 6, 21, 0, 0), 0.92, 'Trovit_AT', 'Austria'), (datetime.datetime(2018, 6, 22, 0, 0), 0.46, 'Trovit_AT', 'Austria'), (datetime.datetime(2018, 6, 23, 0, 0), 0.8, 'Trovit_AT', 'Austria'), (datetime.datetime(2018, 6, 24, 0, 0), 0.94, 'Trovit_AT', 'Austria'), (datetime.datetime(2018, 6, 25, 0, 0), 3.18, 'Trovit_AT', 'Austria'), (datetime.datetime(2018, 6, 26, 0, 0), 1.51, 'Trovit_AT', 'Austria'), (datetime.datetime(2018, 6, 27, 0, 0), 0.92, 'Trovit_AT', 'Austria'), (datetime.datetime(2018, 6, 28, 0, 0), 1.82, 'Trovit_AT', 'Austria'), (datetime.datetime(2018, 6, 29, 0, 0), 1.51, 'Trovit_AT', 'Austria'), (datetime.datetime(2018, 6, 30, 0, 0), 1.21, 'Trovit_AT', 'Austria'), (datetime.datetime(2018, 7, 1, 0, 0), 0.48, 'Trovit_AT', 'Austria')]\n"
     ]
    },
    {
     "ename": "TypeError",
     "evalue": "a bytes-like object is required, not 'str'",
     "output_type": "error",
     "traceback": [
      "\u001b[1;31m---------------------------------------------------------------------------\u001b[0m",
      "\u001b[1;31mTypeError\u001b[0m                                 Traceback (most recent call last)",
      "\u001b[1;32m<ipython-input-5-f552dd4663c0>\u001b[0m in \u001b[0;36m<module>\u001b[1;34m()\u001b[0m\n\u001b[0;32m     24\u001b[0m \u001b[1;32mwith\u001b[0m \u001b[0mopen\u001b[0m\u001b[1;33m(\u001b[0m\u001b[1;34m'C:\\\\Users\\\\mKorotkov\\\\Documents\\\\output'\u001b[0m\u001b[1;33m+\u001b[0m\u001b[0mcur_date\u001b[0m\u001b[1;33m+\u001b[0m\u001b[1;34m'.csv'\u001b[0m\u001b[1;33m,\u001b[0m \u001b[1;34m'wb'\u001b[0m\u001b[1;33m)\u001b[0m \u001b[1;32mas\u001b[0m \u001b[0mcsvfile\u001b[0m\u001b[1;33m:\u001b[0m\u001b[1;33m\u001b[0m\u001b[0m\n\u001b[0;32m     25\u001b[0m     \u001b[0mfilewriter\u001b[0m \u001b[1;33m=\u001b[0m \u001b[0mcsv\u001b[0m\u001b[1;33m.\u001b[0m\u001b[0mwriter\u001b[0m\u001b[1;33m(\u001b[0m\u001b[0mcsvfile\u001b[0m\u001b[1;33m,\u001b[0m \u001b[0mdelimiter\u001b[0m\u001b[1;33m=\u001b[0m\u001b[1;34m','\u001b[0m\u001b[1;33m)\u001b[0m\u001b[1;33m\u001b[0m\u001b[0m\n\u001b[1;32m---> 26\u001b[1;33m     \u001b[0mfilewriter\u001b[0m\u001b[1;33m.\u001b[0m\u001b[0mwriterow\u001b[0m\u001b[1;33m(\u001b[0m\u001b[1;33m[\u001b[0m\u001b[1;34m'Date'\u001b[0m\u001b[1;33m,\u001b[0m \u001b[1;34m'AffiliateGroup'\u001b[0m\u001b[1;33m,\u001b[0m \u001b[1;34m'Country'\u001b[0m\u001b[1;33m,\u001b[0m\u001b[1;34m'Cost'\u001b[0m\u001b[1;33m]\u001b[0m\u001b[1;33m)\u001b[0m\u001b[1;33m\u001b[0m\u001b[0m\n\u001b[0m",
      "\u001b[1;31mTypeError\u001b[0m: a bytes-like object is required, not 'str'"
     ]
    }
   ],
   "source": [
    "dates=[]\n",
    "costs=[]\n",
    "aff_group=[]\n",
    "country_name=[]\n",
    "data=[]\n",
    "sheet_name='Trovit_AT'\n",
    "sheet = wb[sheet_name]\n",
    "for row in range(3, 408):\n",
    "    datum = sheet['A' + str(row)].value\n",
    "    cost = sheet['G' + str(row)].value\n",
    "    if datum != None:\n",
    "        dates.append(datum)\n",
    "        if cost !=None:\n",
    "            costs.append(cost)\n",
    "            aff_group.append(sheet_name)\n",
    "            country_name.append(country)\n",
    "data=list(zip(dates,costs,aff_group,country_name))\n",
    "print(data)\n",
    "import csv\n",
    "import datetime\n",
    "now=datetime.datetime.now()\n",
    "cur_date=now.strftime(\"%Y%m%d\")\n",
    "\n",
    "with open('C:\\\\Users\\\\mKorotkov\\\\Documents\\\\output'+cur_date+'.csv', 'wb') as csvfile:\n",
    "    filewriter = csv.writer(csvfile, delimiter=',')\n",
    "    #???filewriter.writerow(['Date', 'AffiliateGroup', 'Country','Cost'])"
   ]
  }
 ],
 "metadata": {
  "kernelspec": {
   "display_name": "Python 3",
   "language": "python",
   "name": "python3"
  },
  "language_info": {
   "codemirror_mode": {
    "name": "ipython",
    "version": 3
   },
   "file_extension": ".py",
   "mimetype": "text/x-python",
   "name": "python",
   "nbconvert_exporter": "python",
   "pygments_lexer": "ipython3",
   "version": "3.6.5"
  }
 },
 "nbformat": 4,
 "nbformat_minor": 2
}
