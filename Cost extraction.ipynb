{
 "cells": [
  {
   "cell_type": "code",
   "execution_count": 9,
   "metadata": {},
   "outputs": [
    {
     "name": "stdout",
     "output_type": "stream",
     "text": [
      "['Trovit_AT', 'Trovit_Newsletter_AT', 'Xpatjobs_AT', 'AT_The_Ladders', 'Ligatus_AT', 'LinkedIn_AT', 'LinkedIn_Direct_Ads_AT', 'DBM_RON_AT', 'DBM_RTU_AT', 'Jobrapido_Display_AT', 'Xing_Feed_AT', 'LinkedIn_export_AT', 'Alleskralle_AT', 'Careerjet_AT', 'Metajob_AT', 'LinkedIn_export_Prof_AT', 'Jobrapido_AT', 'Adzuna_AT', 'Jobtome_AT', 'Jobsmart_AT', 'Organic_Search_AT', 'Headhunter_Directory_AT', 'Google_AT', 'Google_Brand_AT', 'Google_Mobile_AT', 'Bing_AT', 'Bing_Brand_AT', 'Bing_Mobile_AT', 'Experteer.AT', 'Social_toolbar.AT', 'B2BSocial_toolbar.AT', 'Einladung_AT', 'Android_Career_App_AT', 'iOS_Career_App_AT', 'Jobrapido_AT_Text_Ads', 'Linkedin_Dynamic_Ads_AT']\n"
     ]
    }
   ],
   "source": [
    "import openpyxl\n",
    "import csv\n",
    "import datetime\n",
    "\n",
    "#countries={9:\"Austria\", 3:\"Europe\", 6:\"France\", 1:\"Germany\", 11:\"Italy\", 13:\"Spain\", 7:\"Switzerland\", 2:\"UK\", 12:\"USA\", 14:\"Netherlands\", 10:\"Belgium\"}\n",
    "#for id, country in countries.items():\n",
    "country=\"Austria\"\n",
    "#path='C:\\\\Users\\\\mKorotkov\\\\Documents\\\\'\n",
    "#input_file='Channel Controlling 2018 '\n",
    "path='C:\\\\Users\\\\Michael\\\\Downloads\\\\'\n",
    "input_file='source_file_'\n",
    "wb = openpyxl.load_workbook(path + input_file + country + '.xlsx',read_only=True, data_only=True)\n",
    "\n",
    "sheets =  wb.sheetnames #list of sheet names\n",
    "#removing summary, beispiel and data pivot sheets\n",
    "i=0\n",
    "while i <=1:\n",
    "    popped = sheets.pop(0)\n",
    "    i+=1\n",
    "sheets.pop()\n",
    "print(sheets)\n",
    "\n",
    "\n",
    "\n",
    "#wb.close\n",
    "#print('\\nDone')"
   ]
  },
  {
   "cell_type": "code",
   "execution_count": 29,
   "metadata": {},
   "outputs": [
    {
     "name": "stdout",
     "output_type": "stream",
     "text": [
      "Trovit AT\n",
      "Started at: 22:26\n"
     ]
    }
   ],
   "source": [
    "dates=[]\n",
    "costs=[]\n",
    "aff_group=[]\n",
    "country_id=[]\n",
    "data=[]\n",
    "sheet_name='Trovit_AT'\n",
    "sheet = wb[sheet_name]\n",
    "print(sheet[502][0].value)\n",
    "for row in sheet.iter_rows(min_row=3,max_row=408, min_col=1, max_col=7):\n",
    "    for cell in row:\n",
    "        if cell.column==1:\n",
    "            datum = cell.value\n",
    "        elif cell.column==7:\n",
    "            cost = cell.value\n",
    "            if datum != None:\n",
    "                dates.append(datum.strftime(\"%Y-%m-%d\"))\n",
    "                if cost !=None:\n",
    "                    costs.append(cost)\n",
    "                    aff_group.append(sheet_name)\n",
    "                    country_id.append(country) #change country to id\n",
    "data=list(zip(dates,aff_group,country_id,costs))\n",
    "#print(data)\n",
    "now=datetime.datetime.now()\n",
    "cur_date=now.strftime(\"%Y%m%d\")\n",
    "\n",
    "with open(path + cur_date +'_output'+ '.csv', 'w', newline='') as csvfile:\n",
    "    filewriter = csv.writer(csvfile, delimiter=',',\n",
    "                            quotechar='|', quoting=csv.QUOTE_MINIMAL)\n",
    "    filewriter.writerow(['Date', 'AffiliateGroup', 'CountryId','Cost'])\n",
    "    for value in data:\n",
    "        filewriter.writerow(value)\n",
    "\n",
    "print(f'Started at: {now.strftime(\"%H:%M\")}')\n"
   ]
  },
  {
   "cell_type": "code",
   "execution_count": 2,
   "metadata": {},
   "outputs": [
    {
     "name": "stdout",
     "output_type": "stream",
     "text": [
      "Started at: 22:25\n",
      "Ended at: 22:25\n"
     ]
    }
   ],
   "source": [
    "import openpyxl\n",
    "import csv\n",
    "import datetime\n",
    "\n",
    "now=datetime.datetime.now()\n",
    "#dictionary for iterating between files \n",
    "#countries={9:\"Austria\", 3:\"Europe\", 6:\"France\", 1:\"Germany\", 11:\"Italy\", 13:\"Spain\", 7:\"Switzerland\", 2:\"UK\", 12:\"USA\", 14:\"Netherlands\", 10:\"Belgium\"}\n",
    "countries={9:\"Austria\"}\n",
    "print(f'Started at: {now.strftime(\"%H:%M\")}')\n",
    "for c_id, country in countries.items():\n",
    "\n",
    "    #path='C:\\\\Users\\\\mKorotkov\\\\Documents\\\\'\n",
    "    #input_file='Channel Controlling 2018 '\n",
    "    #open the workbook\n",
    "    path='C:\\\\Users\\\\Michael\\\\Downloads\\\\'\n",
    "    input_file='source_file_'\n",
    "    wb = openpyxl.load_workbook(path + input_file + country + '.xlsx',read_only=True, data_only=True)\n",
    "\n",
    "    sheets =  wb.sheetnames #list of sheet names\n",
    "\n",
    "    #removing summary, beispiel and data pivot sheets\n",
    "    i=0\n",
    "    while i <=1:\n",
    "        popped = sheets.pop(0)\n",
    "        i+=1\n",
    "    sheets.pop()\n",
    "    #print(sheets)\n",
    "\n",
    "    #preparing lists for data that will be extracted from each sheet\n",
    "    dates=[]\n",
    "    costs=[]\n",
    "    aff_group=[]\n",
    "    country_id=[]\n",
    "    data=[]\n",
    "    #iterating between the sheets and extracting the data\n",
    "    for sheet in sheets:\n",
    "        sheet=wb[sheet]\n",
    "        sheet_name=sheet[502][0].value\n",
    "        # extracting only cost and date\n",
    "        for row in sheet.iter_rows(min_row=3,max_row=408, min_col=1, max_col=7):\n",
    "            for cell in row:\n",
    "                if cell.column==1:\n",
    "                    datum = cell.value\n",
    "                elif cell.column==7:\n",
    "                    cost = cell.value\n",
    "                    #removing blank cells\n",
    "                    if datum != None:\n",
    "                        dates.append(datum.strftime(\"%Y-%m-%d\"))\n",
    "                        if cost !=None:\n",
    "                            #adding data to list\n",
    "                            costs.append(cost)\n",
    "                            aff_group.append(sheet_name)\n",
    "                            country_id.append(c_id)\n",
    "        #putting lists together into a list of tuples \n",
    "        data=list(zip(dates,aff_group,country_id,costs))\n",
    "        #print(data)\n",
    "        cur_date=now.strftime(\"%Y%m%d\")\n",
    "        \n",
    "#wiriting into the csv file\n",
    "        with open(path + cur_date +'_output'+ '.csv', 'w', newline='') as csvfile:\n",
    "            filewriter = csv.writer(csvfile, delimiter=',',\n",
    "                                    quotechar='|', quoting=csv.QUOTE_MINIMAL)\n",
    "            filewriter.writerow(['Date', 'AffiliateGroup', 'CountryId','Cost'])\n",
    "            for value in data:\n",
    "                filewriter.writerow(value)\n",
    "        with open(path + 'log'+ '.csv', 'w', newline='') as csvfile:\n",
    "            filewriter = csv.writer(csvfile, delimiter=',',\n",
    "                                    quotechar='|', quoting=csv.QUOTE_MINIMAL)\n",
    "            filewriter.writerow(['Log date', now])\n",
    "            filewriter.writerow(['Filename', 'Status'])\n",
    "            filewriter.writerow([input_file + country,'Done'])\n",
    "\n",
    "\n",
    "    wb.close\n",
    "print(f'Ended at: {now.strftime(\"%H:%M\")}')"
   ]
  }
 ],
 "metadata": {
  "kernelspec": {
   "display_name": "Python 3",
   "language": "python",
   "name": "python3"
  },
  "language_info": {
   "codemirror_mode": {
    "name": "ipython",
    "version": 3
   },
   "file_extension": ".py",
   "mimetype": "text/x-python",
   "name": "python",
   "nbconvert_exporter": "python",
   "pygments_lexer": "ipython3",
   "version": "3.6.4"
  }
 },
 "nbformat": 4,
 "nbformat_minor": 2
}
